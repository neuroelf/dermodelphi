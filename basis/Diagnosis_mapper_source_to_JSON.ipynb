{
 "cells": [
  {
   "cell_type": "markdown",
   "metadata": {},
   "source": [
    "# Converts the source XLSX to JSON file\n",
    "\n",
    "Whenever the XLSX source workbook is altered, please\n",
    "re-run through this notebook to re-create the corresponding\n",
    "JSON file containing the Diagnosis Mapper (base) information.\n",
    "\n",
    "To convert this notebook into a plain python script, use\n",
    "\n",
    "```bash\n",
    "jupyter nbconvert --to python Diagnosis_mapper_source_to_JSON.ipynb\n",
    "```"
   ]
  },
  {
   "cell_type": "code",
   "execution_count": null,
   "metadata": {},
   "outputs": [],
   "source": [
    "# imports, etc.\n",
    "import html\n",
    "import pandas as pd\n",
    "\n",
    "XLSFILE = 'Diagnosis_mapper_source.xlsx'\n",
    "SHEETNAME = 'TaxonomyBasis'\n",
    "OUTPUTFILE = 'dm_diagnoses.json'"
   ]
  },
  {
   "cell_type": "code",
   "execution_count": null,
   "metadata": {},
   "outputs": [],
   "source": [
    "# define isNaN function, and the ABCNode class\n",
    "def isNaN(value):\n",
    "    return value != value\n",
    "\n",
    "Adict = {}\n",
    "Bdict = {}\n",
    "Cdict = {}\n",
    "\n",
    "class ABCNode:\n",
    "    \n",
    "    def __init__(self, name, level, Aid, Bid, CBid, Cid, syns, mod1, mod2, status):\n",
    "        self.children = []\n",
    "        self.modifiers = None\n",
    "        self.synonyms = None\n",
    "        self.name = name.strip()\n",
    "        self.status = status if status else 'visible'\n",
    "        \n",
    "        if level == 'A':\n",
    "            self.id = Aid\n",
    "            if not Aid in Adict:\n",
    "                Adict[Aid] = self\n",
    "        elif level == 'B':\n",
    "            self.id = Bid\n",
    "            if not Bid in Bdict:\n",
    "                Bdict[Bid] = self\n",
    "            Adict[Aid].children.append(self)\n",
    "        elif level == 'C':\n",
    "            self.id = Cid\n",
    "            self.blockid = CBid\n",
    "            if isNaN(mod1):\n",
    "                self.modifiers = []\n",
    "            elif isNaN(mod2):\n",
    "                self.modifiers = [mod1.strip().split(';')]\n",
    "            else:\n",
    "                self.modifiers = [mod1.strip().split(';'), mod2.strip().split(';')]\n",
    "            if isNaN(syns):\n",
    "                self.synonyms = []\n",
    "            else:\n",
    "                self.synonyms = syns.strip().split(';')\n",
    "            Bdict[Bid].children.append(self)\n",
    "        else:\n",
    "            self.id = 0\n",
    "    \n",
    "    def toJSON(self, clevel=0):\n",
    "        tstr = ''\n",
    "        if clevel > 0:\n",
    "            tstr = \"\\t\" * clevel\n",
    "        txstr = tstr + \"\\t\"\n",
    "        openstr = \"{\\n\"\n",
    "        objstr = txstr + \"\\\"name\\\": \\\"\" + self.name + \"\\\",\\n\" + txstr + \"\\\"id\\\": \" + str(self.id) + \",\\n\"\n",
    "        numchildren = len(self.children)\n",
    "        if numchildren > 0:\n",
    "            objstr += txstr + \"\\\"children\\\": [\"\n",
    "            for cc in range(numchildren):\n",
    "                if cc < (numchildren - 1):\n",
    "                    objstr += self.children[cc].toJSON(clevel + 1) + \",\\n\" + txstr\n",
    "                else:\n",
    "                    objstr += self.children[cc].toJSON(clevel + 1) + \"\\n\"\n",
    "            objstr += txstr + \"]\\n\"\n",
    "        else:\n",
    "            objstr += (txstr + \"\\\"blockid\\\": \" + str(self.blockid) + \",\\n\" +\n",
    "                txstr + \"\\\"modifiers\\\": \" + repr(self.modifiers).replace(\"'\", \"\\\"\") + \",\\n\" +\n",
    "                txstr + \"\\\"status\\\": \\\"\" + self.status + \"\\\",\\n\" +\n",
    "                txstr + \"\\\"synonyms\\\": \" + repr(self.synonyms).replace(\"'\", \"\\\"\") + \"\\n\")\n",
    "        closestr = tstr + \"}\"\n",
    "        return openstr + objstr + closestr"
   ]
  },
  {
   "cell_type": "code",
   "execution_count": null,
   "metadata": {},
   "outputs": [],
   "source": [
    "# load the XLSX file into a Pandas DataFrame object\n",
    "sourcedf = pd.read_excel(XLSFILE, sheet_name=SHEETNAME, header=0)"
   ]
  },
  {
   "cell_type": "code",
   "execution_count": null,
   "metadata": {},
   "outputs": [],
   "source": [
    "# collect information about the levels\n",
    "currentA = None\n",
    "currentB = None\n",
    "currentC = None\n",
    "baseNode = ABCNode('', 0, 0, 0, 0, 0, None, None, None, None)\n",
    "for rowindex, row in sourcedf.iterrows():\n",
    "    syns = row[3]\n",
    "    mod1 = row[4]\n",
    "    mod2 = row[5]\n",
    "    Aid = row[6]\n",
    "    Bid = row[7]\n",
    "    CBid = row[9]\n",
    "    Cid = row[10]\n",
    "    status = row[11]\n",
    "    if not isNaN(row[0]):\n",
    "        currentA = ABCNode(row[0], 'A', Aid, Bid, CBid, Cid, syns, mod1, mod2, None)\n",
    "        baseNode.children.append(currentA)\n",
    "    if not isNaN(row[1]):\n",
    "        currentB = ABCNode(row[1], 'B', Aid, Bid, CBid, Cid, syns, mod1, mod2, None)\n",
    "    if not isNaN(row[2]):\n",
    "        currentC = ABCNode(row[2], 'C', Aid, Bid, CBid, Cid, syns, mod1, mod2, status)"
   ]
  },
  {
   "cell_type": "code",
   "execution_count": null,
   "metadata": {},
   "outputs": [],
   "source": [
    "# store converted output to file\n",
    "with open(OUTPUTFILE, \"w\", encoding='utf-8') as textfile:\n",
    "    textfile.write(baseNode.toJSON())"
   ]
  }
 ],
 "metadata": {
  "kernelspec": {
   "display_name": "Python 3",
   "language": "python",
   "name": "python3"
  },
  "language_info": {
   "codemirror_mode": {
    "name": "ipython",
    "version": 3
   },
   "file_extension": ".py",
   "mimetype": "text/x-python",
   "name": "python",
   "nbconvert_exporter": "python",
   "pygments_lexer": "ipython3",
   "version": "3.7.4"
  }
 },
 "nbformat": 4,
 "nbformat_minor": 2
}
